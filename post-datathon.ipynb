{
 "cells": [
  {
   "cell_type": "markdown",
   "metadata": {},
   "source": [
    "**Importing packages**"
   ]
  },
  {
   "cell_type": "code",
   "execution_count": 1,
   "metadata": {},
   "outputs": [],
   "source": [
    "# Normalization and Standartization imports\n",
    "from sklearn.preprocessing import Normalizer\n",
    "from sklearn.preprocessing import StandardScaler\n",
    "\n",
    "# Package for missing data\n",
    "from sklearn.impute import SimpleImputer\n",
    "\n",
    "from sklearn.model_selection import train_test_split\n",
    "from sklearn.pipeline import Pipeline\n",
    "from sklearn.decomposition import PCA\n",
    "from sklearn.discriminant_analysis import LinearDiscriminantAnalysis\n",
    "from sklearn.linear_model import LogisticRegression\n",
    "from sklearn.metrics import accuracy_score, root_mean_squared_error\n",
    "\n",
    "# Base packages\n",
    "import pandas as pd\n",
    "import seaborn as sns\n",
    "import matplotlib.pyplot as plt\n",
    "import numpy as np"
   ]
  },
  {
   "cell_type": "markdown",
   "metadata": {},
   "source": [
    "**Loading Testing and training datasets**"
   ]
  },
  {
   "cell_type": "code",
   "execution_count": 117,
   "metadata": {},
   "outputs": [],
   "source": [
    "# Load datasets\n",
    "trainning = pd.read_csv('trajnimi.csv')\n",
    "testing = pd.read_csv('testimi.csv')"
   ]
  },
  {
   "cell_type": "markdown",
   "metadata": {},
   "source": [
    "**Pre-processing**"
   ]
  },
  {
   "cell_type": "code",
   "execution_count": null,
   "metadata": {},
   "outputs": [],
   "source": [
    "# Dropping the url column as it was not needed and caused errors if not removed further on\n",
    "trainning = trainning.drop(\"url\", axis=1)\n",
    "testing = testing.drop(\"url\", axis=1)\n",
    " \n",
    "trainning, validation = train_test_split(trainning, test_size=0.1, random_state=42)\n",
    "#print(trainning.columns.__len__())"
   ]
  },
  {
   "cell_type": "code",
   "execution_count": 78,
   "metadata": {},
   "outputs": [
    {
     "name": "stdout",
     "output_type": "stream",
     "text": [
      "\n",
      "Articles removed from training set: 1048\n",
      "Remaining training articles: 30667\n",
      "Mean of Shares: 3016.0578260869565\n",
      "Standard Deviation of Shares: 5491.246125952392\n"
     ]
    }
   ],
   "source": [
    "initial_train_size = trainning.shape[0]\n",
    "initial_test_size = testing.shape[0]\n",
    "\n",
    "#trainning = trainning[trainning[\"shares\"] <= 300000].copy() # first change, removing outlier for nr of shares above 300,000\n",
    "trainning = trainning[trainning[\"shares\"] <= 80000].copy()\n",
    "trainning = trainning[trainning[\"n_tokens_content\"] <= 4000].copy()\n",
    "#trainning = trainning[trainning[\"kw_min_max\"] <= 400000] #without this its 5400 score\n",
    "#trainning = trainning[trainning[\"kw_max_max\"] <= 400000] #without this its 5400 score\n",
    "#trainning = trainning[trainning[\"self_reference_max_shares\"] <= 400000] #without this its 5400 score\n",
    "#trainning = trainning[trainning[\"self_reference_max_shares\"] <= 400000] #without this its 5400 score\n",
    "trainning = trainning[trainning[\"n_tokens_content\"] >= 15].copy()\n",
    "testing = testing[testing[\"n_tokens_content\"] >= 15].copy()\n",
    "\n",
    "# had made a mistake before and corrected with this\n",
    "#zero_word_articles = trainning[trainning['n_tokens_content'] == 0]\n",
    "#zero_word_count = len(zero_word_articles)\n",
    "#print(\"zero word articles number:\", zero_word_count)\n",
    "\n",
    "removed_train = initial_train_size - trainning.shape[0]\n",
    "#removed_test = initial_test_size - testing.shape[0]\n",
    "\n",
    "print(f\"\\nArticles removed from training set: {removed_train}\")\n",
    "#print(f\"Articles removed from testing set: {removed_test}\")\n",
    "print(f\"Remaining training articles: {trainning.shape[0]}\")\n",
    "#print(f\"Remaining testing articles: {testing.shape[0]}\")\n",
    "\n",
    "# STEP 2: Split the cleaned training data into training and validation\n",
    "trainning, validation = train_test_split(trainning, test_size=0.1, random_state=42)\n",
    "\n",
    "print(\"Mean of Shares:\", trainning[\"shares\"].mean())\n",
    "print(\"Standard Deviation of Shares:\", trainning[\"shares\"].std())\n"
   ]
  },
  {
   "cell_type": "markdown",
   "metadata": {},
   "source": [
    "**GRAPHS**"
   ]
  },
  {
   "cell_type": "code",
   "execution_count": null,
   "metadata": {},
   "outputs": [],
   "source": [
    "# List of LDA topic features\n",
    "lda_features = [\"LDA_00\", \"LDA_01\", \"LDA_02\", \"LDA_03\", \"LDA_04\"]\n",
    "\n",
    "# Convert data into long format for better visualization\n",
    "lda_melted = trainning.melt(id_vars=[\"shares\"], value_vars=lda_features, var_name=\"LDA_Topic\", value_name=\"Topic_Probability\")\n",
    "\n",
    "# Set plot size\n",
    "plt.figure(figsize=(10, 6))\n",
    "\n",
    "# Create a boxplot to show the distribution of shares for each topic\n",
    "sns.boxplot(data=lda_melted, x=\"LDA_Topic\", y=\"shares\", palette=\"Set2\")\n",
    "\n",
    "# Enhance readability\n",
    "plt.yscale(\"log\")  # Use log scale to handle large variations in shares\n",
    "plt.title(\"Distribution of Shares by LDA Topic\")\n",
    "plt.xlabel(\"LDA Topic\")\n",
    "plt.ylabel(\"Shares (log scale)\")\n",
    "plt.grid(axis=\"y\", linestyle=\"--\", alpha=0.7)\n",
    "\n",
    "# Show the plot\n",
    "plt.show()"
   ]
  },
  {
   "cell_type": "code",
   "execution_count": null,
   "metadata": {},
   "outputs": [],
   "source": [
    "feature = 'shares'\n",
    "plt.figure(figsize=(5, 5))\n",
    "sns.boxplot(y=trainning[feature])\n",
    "plt.title(f'Boxplot of {feature}')\n",
    "plt.show()"
   ]
  },
  {
   "cell_type": "markdown",
   "metadata": {},
   "source": [
    "**Correlation Analysis, Pearson/Spearman**"
   ]
  },
  {
   "cell_type": "code",
   "execution_count": null,
   "metadata": {},
   "outputs": [],
   "source": [
    "# Compute correlation with shares\n",
    "correlations = trainning.corr()[\"shares\"].drop(\"shares\").sort_values(ascending=False)\n",
    "\n",
    "# Get top 5 most correlated features\n",
    "top_5 = correlations.head(5)\n",
    "print(\"Features most Correlated with Shares:\")\n",
    "print(top_5)\n",
    "\n",
    "# Plot top correlated features\n",
    "plt.figure(figsize=(8, 6))\n",
    "sns.barplot(x=correlations.values[:10], y=correlations.index[:10], palette=\"coolwarm\")\n",
    "plt.xlabel(\"Correlation with Shares\")\n",
    "plt.title(\"Feature Importance via Correlation (Top 10)\")\n",
    "plt.show()\n"
   ]
  },
  {
   "cell_type": "markdown",
   "metadata": {},
   "source": [
    "**TPOT**"
   ]
  },
  {
   "cell_type": "code",
   "execution_count": null,
   "metadata": {},
   "outputs": [],
   "source": [
    "#gotta figure out this shit\n",
    "from tpot import TPOTRegressor\n",
    "# Define features and target\n",
    "X = trainning.drop(columns=[\"shares\"])  # Features\n",
    "y = trainning[\"shares\"]  # Target variable\n",
    "\n",
    "standardscaler = StandardScaler()\n",
    "# Split into training and testing sets (80% train, 20% test)\n",
    "X_train, X_test, y_train, y_test = train_test_split(X, y, test_size=0.2, random_state=42)\n",
    "\n",
    "X_train_scaled = standardscaler.fit_transform(X_train)\n",
    "X_test_scaled = standardscaler.transform(X_test)\n",
    "\n",
    "# Initialize TPOT for regression\n",
    "tpot = TPOTRegressor(generations=5, population_size=50, verbosity=2, random_state=42, n_jobs=-1)\n",
    "\n",
    "# Train TPOT to find the best model\n",
    "tpot.fit(X_train_scaled, y_train)\n",
    "\n",
    "# Evaluate the best model on test data\n",
    "score = tpot.score(X_test_scaled, y_test)\n",
    "print(\"Best Model R² Score on Test Data:\", score)\n",
    "\n",
    "# Export the best pipeline\n",
    "tpot.export(\"best_pipeline.py\")\n"
   ]
  },
  {
   "cell_type": "markdown",
   "metadata": {},
   "source": [
    "**TESTING**"
   ]
  },
  {
   "cell_type": "code",
   "execution_count": null,
   "metadata": {},
   "outputs": [],
   "source": [
    "# Create the figure\n",
    "plt.figure(figsize=(10, 6))\n",
    "\n",
    "# Plot histogram of word counts\n",
    "sns.histplot(trainning[\"n_tokens_content\"], bins=50, kde=True, color=\"blue\", label=\"Article Word Counts\")\n",
    "\n",
    "# Create a secondary y-axis for the shares trend\n",
    "ax2 = plt.twinx()\n",
    "\n",
    "# Plot the average shares per word count range\n",
    "sns.lineplot(x=trainning[\"n_tokens_content\"], y=trainning[\"shares\"], color=\"red\", ax=ax2, label=\"Shares per Word Count\")\n",
    "\n",
    "# Labels and title\n",
    "plt.xlabel(\"Number of Words in Content\")\n",
    "plt.ylabel(\"Count of Articles (Left) / Shares (Right)\")\n",
    "plt.title(\"Distribution of Article Word Counts and Shares per Word Count\")\n",
    "\n",
    "# Legends\n",
    "plt.legend(loc=\"upper right\")\n",
    "\n",
    "plt.show()\n"
   ]
  },
  {
   "cell_type": "markdown",
   "metadata": {},
   "source": [
    "**CHECKING FOR ZERO WORD ARTICLES**"
   ]
  },
  {
   "cell_type": "code",
   "execution_count": 36,
   "metadata": {},
   "outputs": [
    {
     "name": "stdout",
     "output_type": "stream",
     "text": [
      "Number of articles with 0 words: 758\n",
      "Number of articles with less than 15 words: 764\n"
     ]
    }
   ],
   "source": [
    "zero_word_articles = trainning[trainning['n_tokens_content'] == 0]\n",
    "zero_word_count = len(zero_word_articles)\n",
    "\n",
    "short_articles = trainning[trainning['n_tokens_content'] < 30]\n",
    "short_articles_count = len(short_articles)\n",
    "\n",
    "print(f\"Number of articles with 0 words: {zero_word_count}\")\n",
    "print(f\"Number of articles with less than 15 words: {short_articles_count}\")\n"
   ]
  },
  {
   "cell_type": "markdown",
   "metadata": {},
   "source": [
    "**OUTLIER CHECK -  Interquartile Range (IQR) method**"
   ]
  },
  {
   "cell_type": "code",
   "execution_count": 80,
   "metadata": {},
   "outputs": [
    {
     "name": "stdout",
     "output_type": "stream",
     "text": [
      "The upper cutoff is the value above which observations are considered outliers.\n",
      "\n",
      "Outlier threshhold: 5329.5\n"
     ]
    }
   ],
   "source": [
    "Q1 = trainning[\"shares\"].quantile(0.25)\n",
    "Q3 = trainning[\"shares\"].quantile(0.75)\n",
    "\n",
    "IQR = Q3 - Q1\n",
    "\n",
    "upper_cutoff = Q3 +1.5 * IQR\n",
    "lower_cutoff = Q1 -1.5 * IQR\n",
    "\n",
    "print(\"The upper cutoff is the value above which observations are considered outliers.\\n\")\n",
    "print(f\"Outlier threshhold: {upper_cutoff}\")\n",
    "\n"
   ]
  },
  {
   "cell_type": "markdown",
   "metadata": {},
   "source": [
    "**Z-SCORE OUTLIER CHECK**"
   ]
  },
  {
   "cell_type": "code",
   "execution_count": 119,
   "metadata": {},
   "outputs": [
    {
     "name": "stdout",
     "output_type": "stream",
     "text": [
      "Original Shape: (31715, 61)\n",
      "Cleaned Shape: (16752, 61)\n"
     ]
    }
   ],
   "source": [
    "from scipy import stats\n",
    "\n",
    "# Function to remove outliers using Z-score for all columns at once\n",
    "def remove_outliers_zscore(df, threshold=3):\n",
    "    # Create a mask of all True values\n",
    "    mask = pd.Series(True, index=df.index)\n",
    "    \n",
    "    # Update mask for each numeric column\n",
    "    for col in df.select_dtypes(include=[np.number]).columns:\n",
    "        z_scores = np.abs(stats.zscore(df[col]))\n",
    "        mask = mask & (z_scores < threshold)\n",
    "    \n",
    "    # Return filtered dataframe\n",
    "    return df[mask]\n",
    "\n",
    "df_cleaned = remove_outliers_zscore(trainning)\n",
    "print(\"Original Shape:\", trainning.shape)\n",
    "print(\"Cleaned Shape:\", df_cleaned.shape)"
   ]
  },
  {
   "cell_type": "markdown",
   "metadata": {},
   "source": [
    "**ISOLATION FOREST**"
   ]
  },
  {
   "cell_type": "code",
   "execution_count": null,
   "metadata": {},
   "outputs": [],
   "source": [
    "from sklearn.ensemble import IsolationForest\n",
    "\n",
    "# Fit Isolation Forest on all numeric features\n",
    "iso_forest = IsolationForest(contamination=0.05, random_state=42)\n",
    "outlier_labels = iso_forest.fit_predict(trainning.select_dtypes(include=[np.number]))\n",
    "\n",
    "# Remove rows flagged as outliers (-1)\n",
    "df_cleaned = trainning[outlier_labels != -1]\n",
    "\n",
    "print(\"Original Shape:\", trainning.shape)\n",
    "print(\"Cleaned Shape:\", df_cleaned.shape)\n"
   ]
  },
  {
   "cell_type": "markdown",
   "metadata": {},
   "source": [
    "**Normalizer - Standardiser**"
   ]
  },
  {
   "cell_type": "code",
   "execution_count": 56,
   "metadata": {},
   "outputs": [],
   "source": [
    "normalizer = Normalizer()\n",
    "standard = StandardScaler()"
   ]
  },
  {
   "cell_type": "markdown",
   "metadata": {},
   "source": [
    "**OUTLIER CHECKING**"
   ]
  },
  {
   "cell_type": "code",
   "execution_count": null,
   "metadata": {},
   "outputs": [],
   "source": [
    "import matplotlib.pyplot as plt\n",
    "import seaborn as sns\n",
    "\n",
    "# List of selected features for the boxplot\n",
    "selected_features = [\n",
    "    \"n_unique_tokens\", \"average_token_length\",\n",
    "    \"num_hrefs\", \"num_self_hrefs\", \"num_imgs\", \"num_videos\",\n",
    "    \"weekday_is_saturday\", \"weekday_is_sunday\", \"is_weekend\",\n",
    "    \"global_rate_positive_words\", \"global_rate_negative_words\", \"title_sentiment_polarity\",\n",
    "    \"LDA_00\", \"LDA_01\", \"LDA_02\", \"LDA_03\", \"LDA_04\"\n",
    "]\n",
    "\n",
    "# Filter dataset with selected features\n",
    "data_to_plot = trainning[selected_features]\n",
    "\n",
    "# Set plot size\n",
    "plt.figure(figsize=(15, 8))\n",
    "\n",
    "# Create boxplot for all selected features\n",
    "sns.boxplot(data=data_to_plot)\n",
    "plt.xticks(rotation=90)  # Rotate x-axis labels for better visibility\n",
    "plt.title(\"Boxplot of Selected Features for Outlier Detection\")\n",
    "plt.show()\n"
   ]
  },
  {
   "cell_type": "markdown",
   "metadata": {},
   "source": [
    "**Visualising data**"
   ]
  },
  {
   "cell_type": "code",
   "execution_count": null,
   "metadata": {},
   "outputs": [],
   "source": [
    "import matplotlib.pyplot as plt\n",
    "import seaborn as sns\n",
    "# Create a new column: Empty or Not\n",
    "trainning[\"is_empty\"] = trainning[\"n_tokens_content\"] == 0\n",
    "\n",
    "# Calculate average shares\n",
    "avg_shares = trainning.groupby(\"is_empty\")[\"shares\"].mean()\n",
    "\n",
    "# Plot\n",
    "plt.figure(figsize=(6, 5))\n",
    "sns.barplot(x=avg_shares.index, y=avg_shares.values, palette=[\"blue\", \"red\"])\n",
    "plt.xticks([0, 1], [\"Articles with Words\", \"Articles with 0 Words\"])\n",
    "plt.ylabel(\"Average Shares\")\n",
    "plt.title(\"Do Empty Articles Get Fewer Shares?\")\n",
    "plt.show()\n",
    "\n"
   ]
  },
  {
   "cell_type": "code",
   "execution_count": null,
   "metadata": {},
   "outputs": [],
   "source": [
    "plt.figure(figsize=(10, 6))\n",
    "sns.histplot(trainning[\"n_tokens_content\"], bins=50, kde=True)\n",
    "plt.axvline(x=1, color='r', linestyle='--', label=\"1 Word Threshold\")\n",
    "plt.xlabel(\"Number of Words in Content\")\n",
    "plt.ylabel(\"Count of Articles\")\n",
    "plt.title(\"Distribution of Article Word Counts\")\n",
    "plt.legend()\n",
    "plt.show()\n"
   ]
  },
  {
   "cell_type": "code",
   "execution_count": null,
   "metadata": {},
   "outputs": [],
   "source": [
    "plt.figure(figsize=(12, 6))\n",
    "sns.boxplot(data=trainning)\n",
    "plt.xticks(rotation=90)  # Rotate labels if needed\n",
    "plt.title(\"Boxplot of Features (Outliers are points outside whiskers)\")\n",
    "plt.show()\n",
    "\n",
    "#import seaborn as sns\n",
    "#from matplotlib import pyplot as plt\n",
    "\n",
    "#corr = trainning.corr()\n",
    "#sns.heatmap(corr, annot=True)\n",
    "#plt.show()\n",
    "\n",
    "\n",
    "#sns.heatmap(trainning.isnull(), cmap=\"viridis\", cbar=False, yticklabels=False)\n",
    "#plt.show()"
   ]
  },
  {
   "cell_type": "markdown",
   "metadata": {},
   "source": [
    "**Dimensionality reduction**"
   ]
  },
  {
   "cell_type": "code",
   "execution_count": 57,
   "metadata": {},
   "outputs": [],
   "source": [
    "from sklearn.decomposition import TruncatedSVD\n",
    "\n",
    "pca = PCA(n_components=2)\n",
    "lda = LinearDiscriminantAnalysis(n_components=2)\n",
    "svd = TruncatedSVD(n_components=2)"
   ]
  },
  {
   "cell_type": "markdown",
   "metadata": {},
   "source": [
    "**Regression models**"
   ]
  },
  {
   "cell_type": "code",
   "execution_count": null,
   "metadata": {},
   "outputs": [],
   "source": [
    "# Models\n",
    "from sklearn.linear_model import LinearRegression\n",
    "from sklearn.gaussian_process import GaussianProcessRegressor\n",
    "from sklearn.kernel_ridge import KernelRidge\n",
    "from sklearn.naive_bayes import GaussianNB\n",
    "from sklearn.neighbors import NearestNeighbors, KDTree, NearestCentroid\n",
    "from sklearn import tree # decision tree and random forest\n",
    "from sklearn.linear_model import BayesianRidge\n",
    "from sklearn.ensemble import RandomForestRegressor\n",
    "from xgboost import XGBRegressor\n",
    "from sklearn.neural_network import MLPRegressor\n",
    "\n",
    "\n",
    "# Ridge, Lasso and ElasticNet Regression\n",
    "from sklearn.linear_model import Ridge, Lasso, ElasticNet\n",
    "\n",
    "# Polynomial Regression (using PolynomialFeatures + Linear Regression)\n",
    "from sklearn.preprocessing import PolynomialFeatures\n",
    "\n",
    "# Support Vector Regression (SVR)\n",
    "from sklearn.svm import SVR\n",
    "\n",
    "# models"
   ]
  },
  {
   "cell_type": "markdown",
   "metadata": {},
   "source": [
    "**PIPELINE**"
   ]
  },
  {
   "cell_type": "code",
   "execution_count": 120,
   "metadata": {},
   "outputs": [
    {
     "ename": "ValueError",
     "evalue": "The feature names should match those that were passed during fit.\nFeature names unseen at fit time:\n- url\n",
     "output_type": "error",
     "traceback": [
      "\u001b[1;31m---------------------------------------------------------------------------\u001b[0m",
      "\u001b[1;31mValueError\u001b[0m                                Traceback (most recent call last)",
      "Cell \u001b[1;32mIn[120], line 41\u001b[0m\n\u001b[0;32m     39\u001b[0m \u001b[38;5;66;03m# Train and test\u001b[39;00m\n\u001b[0;32m     40\u001b[0m pipeline\u001b[38;5;241m.\u001b[39mfit(trainning\u001b[38;5;241m.\u001b[39mdrop(\u001b[38;5;124m'\u001b[39m\u001b[38;5;124mshares\u001b[39m\u001b[38;5;124m'\u001b[39m, axis\u001b[38;5;241m=\u001b[39m\u001b[38;5;241m1\u001b[39m), trainning[\u001b[38;5;124m'\u001b[39m\u001b[38;5;124mshares\u001b[39m\u001b[38;5;124m'\u001b[39m])\n\u001b[1;32m---> 41\u001b[0m predictions \u001b[38;5;241m=\u001b[39m \u001b[43mpipeline\u001b[49m\u001b[38;5;241;43m.\u001b[39;49m\u001b[43mpredict\u001b[49m\u001b[43m(\u001b[49m\u001b[43mvalidation\u001b[49m\u001b[38;5;241;43m.\u001b[39;49m\u001b[43mdrop\u001b[49m\u001b[43m(\u001b[49m\u001b[38;5;124;43m'\u001b[39;49m\u001b[38;5;124;43mshares\u001b[39;49m\u001b[38;5;124;43m'\u001b[39;49m\u001b[43m,\u001b[49m\u001b[43m \u001b[49m\u001b[43maxis\u001b[49m\u001b[38;5;241;43m=\u001b[39;49m\u001b[38;5;241;43m1\u001b[39;49m\u001b[43m)\u001b[49m\u001b[43m)\u001b[49m\n\u001b[0;32m     44\u001b[0m score \u001b[38;5;241m=\u001b[39m root_mean_squared_error(validation[\u001b[38;5;124m'\u001b[39m\u001b[38;5;124mshares\u001b[39m\u001b[38;5;124m'\u001b[39m], predictions)  \u001b[38;5;66;03m# RMSE\u001b[39;00m\n\u001b[0;32m     46\u001b[0m \u001b[38;5;28;01mif\u001b[39;00m model_name \u001b[38;5;129;01mnot\u001b[39;00m \u001b[38;5;129;01min\u001b[39;00m best_results \u001b[38;5;129;01mor\u001b[39;00m score \u001b[38;5;241m<\u001b[39m best_results[model_name][\u001b[38;5;241m1\u001b[39m]:\n",
      "File \u001b[1;32mc:\\Users\\aldo\\Documents\\work\\machine_learning\\aldo_diku\\machine_learning_env\\Lib\\site-packages\\sklearn\\pipeline.py:787\u001b[0m, in \u001b[0;36mPipeline.predict\u001b[1;34m(self, X, **params)\u001b[0m\n\u001b[0;32m    785\u001b[0m \u001b[38;5;28;01mif\u001b[39;00m \u001b[38;5;129;01mnot\u001b[39;00m _routing_enabled():\n\u001b[0;32m    786\u001b[0m     \u001b[38;5;28;01mfor\u001b[39;00m _, name, transform \u001b[38;5;129;01min\u001b[39;00m \u001b[38;5;28mself\u001b[39m\u001b[38;5;241m.\u001b[39m_iter(with_final\u001b[38;5;241m=\u001b[39m\u001b[38;5;28;01mFalse\u001b[39;00m):\n\u001b[1;32m--> 787\u001b[0m         Xt \u001b[38;5;241m=\u001b[39m \u001b[43mtransform\u001b[49m\u001b[38;5;241;43m.\u001b[39;49m\u001b[43mtransform\u001b[49m\u001b[43m(\u001b[49m\u001b[43mXt\u001b[49m\u001b[43m)\u001b[49m\n\u001b[0;32m    788\u001b[0m     \u001b[38;5;28;01mreturn\u001b[39;00m \u001b[38;5;28mself\u001b[39m\u001b[38;5;241m.\u001b[39msteps[\u001b[38;5;241m-\u001b[39m\u001b[38;5;241m1\u001b[39m][\u001b[38;5;241m1\u001b[39m]\u001b[38;5;241m.\u001b[39mpredict(Xt, \u001b[38;5;241m*\u001b[39m\u001b[38;5;241m*\u001b[39mparams)\n\u001b[0;32m    790\u001b[0m \u001b[38;5;66;03m# metadata routing enabled\u001b[39;00m\n",
      "File \u001b[1;32mc:\\Users\\aldo\\Documents\\work\\machine_learning\\aldo_diku\\machine_learning_env\\Lib\\site-packages\\sklearn\\utils\\_set_output.py:319\u001b[0m, in \u001b[0;36m_wrap_method_output.<locals>.wrapped\u001b[1;34m(self, X, *args, **kwargs)\u001b[0m\n\u001b[0;32m    317\u001b[0m \u001b[38;5;129m@wraps\u001b[39m(f)\n\u001b[0;32m    318\u001b[0m \u001b[38;5;28;01mdef\u001b[39;00m\u001b[38;5;250m \u001b[39m\u001b[38;5;21mwrapped\u001b[39m(\u001b[38;5;28mself\u001b[39m, X, \u001b[38;5;241m*\u001b[39margs, \u001b[38;5;241m*\u001b[39m\u001b[38;5;241m*\u001b[39mkwargs):\n\u001b[1;32m--> 319\u001b[0m     data_to_wrap \u001b[38;5;241m=\u001b[39m \u001b[43mf\u001b[49m\u001b[43m(\u001b[49m\u001b[38;5;28;43mself\u001b[39;49m\u001b[43m,\u001b[49m\u001b[43m \u001b[49m\u001b[43mX\u001b[49m\u001b[43m,\u001b[49m\u001b[43m \u001b[49m\u001b[38;5;241;43m*\u001b[39;49m\u001b[43margs\u001b[49m\u001b[43m,\u001b[49m\u001b[43m \u001b[49m\u001b[38;5;241;43m*\u001b[39;49m\u001b[38;5;241;43m*\u001b[39;49m\u001b[43mkwargs\u001b[49m\u001b[43m)\u001b[49m\n\u001b[0;32m    320\u001b[0m     \u001b[38;5;28;01mif\u001b[39;00m \u001b[38;5;28misinstance\u001b[39m(data_to_wrap, \u001b[38;5;28mtuple\u001b[39m):\n\u001b[0;32m    321\u001b[0m         \u001b[38;5;66;03m# only wrap the first output for cross decomposition\u001b[39;00m\n\u001b[0;32m    322\u001b[0m         return_tuple \u001b[38;5;241m=\u001b[39m (\n\u001b[0;32m    323\u001b[0m             _wrap_data_with_container(method, data_to_wrap[\u001b[38;5;241m0\u001b[39m], X, \u001b[38;5;28mself\u001b[39m),\n\u001b[0;32m    324\u001b[0m             \u001b[38;5;241m*\u001b[39mdata_to_wrap[\u001b[38;5;241m1\u001b[39m:],\n\u001b[0;32m    325\u001b[0m         )\n",
      "File \u001b[1;32mc:\\Users\\aldo\\Documents\\work\\machine_learning\\aldo_diku\\machine_learning_env\\Lib\\site-packages\\sklearn\\preprocessing\\_data.py:1062\u001b[0m, in \u001b[0;36mStandardScaler.transform\u001b[1;34m(self, X, copy)\u001b[0m\n\u001b[0;32m   1059\u001b[0m check_is_fitted(\u001b[38;5;28mself\u001b[39m)\n\u001b[0;32m   1061\u001b[0m copy \u001b[38;5;241m=\u001b[39m copy \u001b[38;5;28;01mif\u001b[39;00m copy \u001b[38;5;129;01mis\u001b[39;00m \u001b[38;5;129;01mnot\u001b[39;00m \u001b[38;5;28;01mNone\u001b[39;00m \u001b[38;5;28;01melse\u001b[39;00m \u001b[38;5;28mself\u001b[39m\u001b[38;5;241m.\u001b[39mcopy\n\u001b[1;32m-> 1062\u001b[0m X \u001b[38;5;241m=\u001b[39m \u001b[43mvalidate_data\u001b[49m\u001b[43m(\u001b[49m\n\u001b[0;32m   1063\u001b[0m \u001b[43m    \u001b[49m\u001b[38;5;28;43mself\u001b[39;49m\u001b[43m,\u001b[49m\n\u001b[0;32m   1064\u001b[0m \u001b[43m    \u001b[49m\u001b[43mX\u001b[49m\u001b[43m,\u001b[49m\n\u001b[0;32m   1065\u001b[0m \u001b[43m    \u001b[49m\u001b[43mreset\u001b[49m\u001b[38;5;241;43m=\u001b[39;49m\u001b[38;5;28;43;01mFalse\u001b[39;49;00m\u001b[43m,\u001b[49m\n\u001b[0;32m   1066\u001b[0m \u001b[43m    \u001b[49m\u001b[43maccept_sparse\u001b[49m\u001b[38;5;241;43m=\u001b[39;49m\u001b[38;5;124;43m\"\u001b[39;49m\u001b[38;5;124;43mcsr\u001b[39;49m\u001b[38;5;124;43m\"\u001b[39;49m\u001b[43m,\u001b[49m\n\u001b[0;32m   1067\u001b[0m \u001b[43m    \u001b[49m\u001b[43mcopy\u001b[49m\u001b[38;5;241;43m=\u001b[39;49m\u001b[43mcopy\u001b[49m\u001b[43m,\u001b[49m\n\u001b[0;32m   1068\u001b[0m \u001b[43m    \u001b[49m\u001b[43mdtype\u001b[49m\u001b[38;5;241;43m=\u001b[39;49m\u001b[43mFLOAT_DTYPES\u001b[49m\u001b[43m,\u001b[49m\n\u001b[0;32m   1069\u001b[0m \u001b[43m    \u001b[49m\u001b[43mforce_writeable\u001b[49m\u001b[38;5;241;43m=\u001b[39;49m\u001b[38;5;28;43;01mTrue\u001b[39;49;00m\u001b[43m,\u001b[49m\n\u001b[0;32m   1070\u001b[0m \u001b[43m    \u001b[49m\u001b[43mensure_all_finite\u001b[49m\u001b[38;5;241;43m=\u001b[39;49m\u001b[38;5;124;43m\"\u001b[39;49m\u001b[38;5;124;43mallow-nan\u001b[39;49m\u001b[38;5;124;43m\"\u001b[39;49m\u001b[43m,\u001b[49m\n\u001b[0;32m   1071\u001b[0m \u001b[43m\u001b[49m\u001b[43m)\u001b[49m\n\u001b[0;32m   1073\u001b[0m \u001b[38;5;28;01mif\u001b[39;00m sparse\u001b[38;5;241m.\u001b[39missparse(X):\n\u001b[0;32m   1074\u001b[0m     \u001b[38;5;28;01mif\u001b[39;00m \u001b[38;5;28mself\u001b[39m\u001b[38;5;241m.\u001b[39mwith_mean:\n",
      "File \u001b[1;32mc:\\Users\\aldo\\Documents\\work\\machine_learning\\aldo_diku\\machine_learning_env\\Lib\\site-packages\\sklearn\\utils\\validation.py:2919\u001b[0m, in \u001b[0;36mvalidate_data\u001b[1;34m(_estimator, X, y, reset, validate_separately, skip_check_array, **check_params)\u001b[0m\n\u001b[0;32m   2835\u001b[0m \u001b[38;5;28;01mdef\u001b[39;00m\u001b[38;5;250m \u001b[39m\u001b[38;5;21mvalidate_data\u001b[39m(\n\u001b[0;32m   2836\u001b[0m     _estimator,\n\u001b[0;32m   2837\u001b[0m     \u001b[38;5;241m/\u001b[39m,\n\u001b[1;32m   (...)\u001b[0m\n\u001b[0;32m   2843\u001b[0m     \u001b[38;5;241m*\u001b[39m\u001b[38;5;241m*\u001b[39mcheck_params,\n\u001b[0;32m   2844\u001b[0m ):\n\u001b[0;32m   2845\u001b[0m \u001b[38;5;250m    \u001b[39m\u001b[38;5;124;03m\"\"\"Validate input data and set or check feature names and counts of the input.\u001b[39;00m\n\u001b[0;32m   2846\u001b[0m \n\u001b[0;32m   2847\u001b[0m \u001b[38;5;124;03m    This helper function should be used in an estimator that requires input\u001b[39;00m\n\u001b[1;32m   (...)\u001b[0m\n\u001b[0;32m   2917\u001b[0m \u001b[38;5;124;03m        validated.\u001b[39;00m\n\u001b[0;32m   2918\u001b[0m \u001b[38;5;124;03m    \"\"\"\u001b[39;00m\n\u001b[1;32m-> 2919\u001b[0m     \u001b[43m_check_feature_names\u001b[49m\u001b[43m(\u001b[49m\u001b[43m_estimator\u001b[49m\u001b[43m,\u001b[49m\u001b[43m \u001b[49m\u001b[43mX\u001b[49m\u001b[43m,\u001b[49m\u001b[43m \u001b[49m\u001b[43mreset\u001b[49m\u001b[38;5;241;43m=\u001b[39;49m\u001b[43mreset\u001b[49m\u001b[43m)\u001b[49m\n\u001b[0;32m   2920\u001b[0m     tags \u001b[38;5;241m=\u001b[39m get_tags(_estimator)\n\u001b[0;32m   2921\u001b[0m     \u001b[38;5;28;01mif\u001b[39;00m y \u001b[38;5;129;01mis\u001b[39;00m \u001b[38;5;28;01mNone\u001b[39;00m \u001b[38;5;129;01mand\u001b[39;00m tags\u001b[38;5;241m.\u001b[39mtarget_tags\u001b[38;5;241m.\u001b[39mrequired:\n",
      "File \u001b[1;32mc:\\Users\\aldo\\Documents\\work\\machine_learning\\aldo_diku\\machine_learning_env\\Lib\\site-packages\\sklearn\\utils\\validation.py:2777\u001b[0m, in \u001b[0;36m_check_feature_names\u001b[1;34m(estimator, X, reset)\u001b[0m\n\u001b[0;32m   2774\u001b[0m \u001b[38;5;28;01mif\u001b[39;00m \u001b[38;5;129;01mnot\u001b[39;00m missing_names \u001b[38;5;129;01mand\u001b[39;00m \u001b[38;5;129;01mnot\u001b[39;00m unexpected_names:\n\u001b[0;32m   2775\u001b[0m     message \u001b[38;5;241m+\u001b[39m\u001b[38;5;241m=\u001b[39m \u001b[38;5;124m\"\u001b[39m\u001b[38;5;124mFeature names must be in the same order as they were in fit.\u001b[39m\u001b[38;5;130;01m\\n\u001b[39;00m\u001b[38;5;124m\"\u001b[39m\n\u001b[1;32m-> 2777\u001b[0m \u001b[38;5;28;01mraise\u001b[39;00m \u001b[38;5;167;01mValueError\u001b[39;00m(message)\n",
      "\u001b[1;31mValueError\u001b[0m: The feature names should match those that were passed during fit.\nFeature names unseen at fit time:\n- url\n"
     ]
    }
   ],
   "source": [
    "pca_components = [2, 15, 59]\n",
    "\n",
    "models = {\n",
    "    \"Linear Regression\": LinearRegression(),\n",
    "    \"Lasso\": Lasso(),\n",
    "    \"Ridge\": Ridge(),\n",
    "    \"Decision Tree\": tree.DecisionTreeRegressor(),\n",
    "    \"Random Forest\": RandomForestRegressor(n_estimators=100),\n",
    "    \"MLP\": MLPRegressor(hidden_layer_sizes=(64, 32), activation='relu', max_iter=500, random_state=42),\n",
    "    \"GaussianNB\": GaussianNB(),\n",
    "    #\"Gaussian PR\": GaussianProcessRegressor(),\n",
    "    \"Kernel Ridge\": KernelRidge(),\n",
    "    \"Logistic Regression\": LogisticRegression(max_iter=1000),\n",
    "    \"SVR\": SVR(),\n",
    "    \"ElasticNet\": ElasticNet(),\n",
    "    \"Bayesian Ridge\": BayesianRidge(),\n",
    "    \"XGBoost\": XGBRegressor(n_estimators=100, learning_rate=0.1, random_state=42),\n",
    "}\n",
    "\n",
    "# saving the best results for each model\n",
    "best_results = {}\n",
    "\n",
    "# Evaluate models\n",
    "#results =[]\n",
    "for n in pca_components:\n",
    "    \n",
    "    best_score = float('inf')\n",
    "    best_model = None\n",
    "    best_model_name = None\n",
    "    \n",
    "    # Create pipeline with Normalizer and PCA\n",
    "    for model_name, model in models.items():\n",
    "        pipeline = Pipeline([\n",
    "            (\"normalizer\", StandardScaler()),\n",
    "            (\"pca\", PCA(n_components=n)),\n",
    "            (\"model\", model)\n",
    "        ])\n",
    "\n",
    "        # Train and test\n",
    "        pipeline.fit(trainning.drop('shares', axis=1), trainning['shares'])\n",
    "        predictions = pipeline.predict(validation.drop('shares', axis=1))\n",
    "        \n",
    "        \n",
    "        score = root_mean_squared_error(validation['shares'], predictions)  # RMSE\n",
    "        \n",
    "        if model_name not in best_results or score < best_results[model_name][1]:\n",
    "            best_results[model_name] = (n, score, pipeline)\n",
    "        #results[(model_name, n)] = score\n",
    "        #print(f\"{model_name} with {n} PCA components: {score}\")\n",
    "\n",
    "best_results_df = pd.DataFrame.from_dict(best_results, orient='index', columns=[\"Best PCA Components\", \"Best Score\", \"Best Model\"])\n",
    "print(best_results_df)\n",
    "\n",
    "# model with the lowest score\n",
    "best_model_name = min(best_results.items(), key=lambda x: x[1][1])[0]\n",
    "best_score = best_results[best_model_name][1]\n",
    "best_pca = best_results[best_model_name][0]\n",
    "\n",
    "print(f\"\\nBest overall model: {best_model_name} with {best_pca} PCA components\")\n",
    "print(f\"Best overall score (RMSE): {best_score:.4f}\")\n",
    "\n",
    "# Convert results to DataFrame\n",
    "#results_df = pd.DataFrame.from_dict(results, orient='index', columns=[\"Score\"])\n",
    "#print(results_df)"
   ]
  },
  {
   "cell_type": "markdown",
   "metadata": {},
   "source": [
    "**GRID SEARCH FOR MLP**"
   ]
  },
  {
   "cell_type": "code",
   "execution_count": null,
   "metadata": {},
   "outputs": [],
   "source": [
    "import numpy as np\n",
    "from sklearn.model_selection import GridSearchCV, train_test_split\n",
    "from sklearn.neural_network import MLPRegressor\n",
    "from sklearn.preprocessing import StandardScaler\n",
    "\n",
    "# Split features and target\n",
    "X = trainning.drop(columns=[\"shares\"])\n",
    "y = trainning[\"shares\"]\n",
    "\n",
    "# Split into training and testing sets\n",
    "X_train, X_test, y_train, y_test = train_test_split(X, y, test_size=0.2, random_state=42)\n",
    "\n",
    "# Scale data (MLPs perform better with normalized data)\n",
    "scaler = StandardScaler()\n",
    "X_train_scaled = scaler.fit_transform(X_train)\n",
    "X_test_scaled = scaler.transform(X_test)\n",
    "\n",
    "# Define hyperparameter grid\n",
    "param_grid = {\n",
    "    \"hidden_layer_sizes\": [(50,), (100,), (50, 50), (100, 50)],\n",
    "    \"activation\": [\"relu\", \"tanh\"],\n",
    "    \"solver\": [\"adam\", \"sgd\"],\n",
    "    \"alpha\": [0.0001, 0.001, 0.01, 0.1],  # Regularization\n",
    "    \"learning_rate\": [\"constant\", \"adaptive\"]\n",
    "}\n",
    "\n",
    "# Initialize MLP Regressor\n",
    "mlp = MLPRegressor(max_iter=1000, random_state=42)\n",
    "\n",
    "# Grid Search with 5-fold cross-validation\n",
    "grid_search = GridSearchCV(mlp, param_grid, cv=5, scoring=\"neg_mean_squared_error\", n_jobs=-1, verbose=2)\n",
    "grid_search.fit(X_train_scaled, y_train)\n",
    "\n",
    "# Print best parameters and score\n",
    "print(\"Best Parameters:\", grid_search.best_params_)\n",
    "print(\"Best Score (MSE):\", grid_search.best_score_)\n",
    "\n",
    "# Evaluate on test set\n",
    "best_model = grid_search.best_estimator_\n",
    "test_score = best_model.score(X_test_scaled, y_test)\n",
    "print(\"Test Set Score (R²):\", test_score)\n"
   ]
  },
  {
   "cell_type": "markdown",
   "metadata": {},
   "source": [
    "**Visualize performance of different models made in the pipeline**"
   ]
  },
  {
   "cell_type": "code",
   "execution_count": null,
   "metadata": {},
   "outputs": [],
   "source": [
    "# Convert results dictionary to DataFrame\n",
    "results_df = pd.DataFrame.from_dict(results, orient=\"index\", columns=[\"Score\"])\n",
    "\n",
    "# Convert the index (which contains tuples of (model_name, PCA components)) into separate columns\n",
    "results_df.index = pd.MultiIndex.from_tuples(results_df.index, names=[\"Model\", \"PCA Components\"])\n",
    "\n",
    "# Reshape the DataFrame so models are rows and PCA components are columns\n",
    "results_pivot = results_df.unstack(level=1)\n",
    "results_pivot.columns = results_pivot.columns.droplevel(0)  # Remove extra level in columns\n",
    "\n",
    "# Convert scores to full integers (remove decimals)\n",
    "results_pivot = results_pivot.astype(int)\n",
    "\n",
    "# Plot heatmap using Seaborn\n",
    "plt.figure(figsize=(10, 6))\n",
    "sns.heatmap(results_pivot, annot=True, fmt=\"d\", cmap=\"Blues\", linewidths=0.5, cbar=True)\n",
    "\n",
    "# Customize plot\n",
    "plt.title(\"Model Performance Across PCA Components\")\n",
    "plt.xlabel(\"Number of PCA Components\")\n",
    "plt.ylabel(\"Models\")\n",
    "plt.xticks(rotation=45)\n",
    "plt.yticks(rotation=0)\n",
    "\n",
    "# Show plot\n",
    "plt.show()\n"
   ]
  },
  {
   "cell_type": "code",
   "execution_count": 69,
   "metadata": {},
   "outputs": [
    {
     "name": "stderr",
     "output_type": "stream",
     "text": [
      "C:\\Users\\aldo\\AppData\\Local\\Temp\\ipykernel_15256\\2606608229.py:6: FutureWarning: \n",
      "\n",
      "Passing `palette` without assigning `hue` is deprecated and will be removed in v0.14.0. Assign the `y` variable to `hue` and set `legend=False` for the same effect.\n",
      "\n",
      "  sns.barplot(\n"
     ]
    },
    {
     "data": {
      "image/png": "[encoded data removed]",
      "text/plain": [
       "<Figure size 1200x600 with 1 Axes>"
      ]
     },
     "metadata": {},
     "output_type": "display_data"
    }
   ],
   "source": [
    "# Sort results by score (lower RMSE is better)\n",
    "best_results_sorted = best_results_df.sort_values(by=\"Best Score\")\n",
    "\n",
    "# Plot\n",
    "plt.figure(figsize=(12, 6))\n",
    "sns.barplot(\n",
    "    x=best_results_sorted[\"Best Score\"], \n",
    "    y=best_results_sorted.index, \n",
    "    palette=\"viridis\"\n",
    ")\n",
    "\n",
    "# Labels\n",
    "plt.xlabel(\"Best RMSE Score (Lower is Better)\")\n",
    "plt.ylabel(\"Model\")\n",
    "plt.title(\"Best RMSE Score for Each Model (with Optimal PCA Components)\")\n",
    "plt.grid(axis=\"x\", linestyle=\"--\", alpha=0.6)\n",
    "\n",
    "# Annotate with PCA components\n",
    "for index, value in enumerate(best_results_sorted[\"Best Score\"]):\n",
    "    pca_value = best_results_sorted.iloc[index][\"Best PCA Components\"]\n",
    "    plt.text(value + 0.01, index, f\"PCA: {pca_value}\", va=\"center\")\n",
    "\n",
    "plt.show()\n"
   ]
  },
  {
   "cell_type": "code",
   "execution_count": 7,
   "metadata": {},
   "outputs": [
    {
     "name": "stdout",
     "output_type": "stream",
     "text": [
      "Gabimi i validimit:  8521.826315180877\n"
     ]
    }
   ],
   "source": [
    "pipeline = Pipeline([\n",
    "    ('normalizer', normalizer),\n",
    "    ('pca', pca),\n",
    "    ('model', linear_regression)\n",
    "])\n",
    "\n",
    "#training the model\n",
    "pipeline.fit(trainning.drop('shares', axis=1), trainning['shares'])\n",
    "\n",
    "#validating the model\n",
    "predictions = pipeline.predict(validation.drop('shares', axis=1))\n",
    "\n",
    "# the prediction, the lower the better\n",
    "gabimi = root_mean_squared_error(validation['shares'], predictions)\n",
    "print(\"Gabimi i validimit: \", gabimi)\n",
    "\n",
    "#predictions = pipeline.predict(testing)\n",
    "#predictions = pipeline.predict(testing[trainning.drop(columns=['shares']).columns])"
   ]
  },
  {
   "cell_type": "markdown",
   "metadata": {},
   "source": [
    "**Saving the predictions**"
   ]
  },
  {
   "cell_type": "code",
   "execution_count": null,
   "metadata": {},
   "outputs": [
    {
     "name": "stdout",
     "output_type": "stream",
     "text": [
      "Predictions saved to parashikimet_reg.csv with 3077 entries.\n"
     ]
    }
   ],
   "source": [
    "def ruaj_parashikimet(id, parashikimet, emri):\n",
    "    # Ensure both inputs are Pandas Series for safe indexing\n",
    "    id = pd.Series(id).reset_index(drop=True)\n",
    "    parashikimet = pd.Series(parashikimet).reset_index(drop=True)\n",
    "\n",
    "    # Find the minimum length to avoid mismatch\n",
    "    min_length = min(len(id), len(parashikimet))\n",
    "\n",
    "    # Truncate both to the same length\n",
    "    id = id.iloc[:min_length]\n",
    "    parashikimet = parashikimet.iloc[:min_length]\n",
    "\n",
    "    # Save to CSV\n",
    "    df = pd.DataFrame({\"id\": id, \"shares\": parashikimet})\n",
    "    df.to_csv(emri, index=False)\n",
    "    print(f\"Predictions saved to {emri} with {min_length} entries.\")\n",
    "\n",
    "# Ensure testing['id'] and predictions have matching lengths before passing them\n",
    "ruaj_parashikimet(testing['id'], predictions, \"parashikimet_reg.csv\")\n",
    "\n"
   ]
  },
  {
   "cell_type": "code",
   "execution_count": null,
   "metadata": {},
   "outputs": [],
   "source": [
    "def ruaj_parashikimet(id, parashikimet, emri):\n",
    "    \"\"\"\n",
    "    @param predikimet një listë me predikimet\n",
    "    @param emri emri i skedarit për të ruajtur predikimet\n",
    "    \"\"\"\n",
    "    trainning= pd.DataFrame(columns=['id', 'shares'])\n",
    "    trainning['id'] = id\n",
    "    trainning['shares'] = parashikimet\n",
    "    trainning.to_csv(emri, index=False)\n",
    "\n",
    "ruaj_parashikimet(testing['id'], predictions, \"parashikimet_reg.csv\")"
   ]
  }
 ],
 "metadata": {
  "kernelspec": {
   "display_name": "machine_learning_env",
   "language": "python",
   "name": "python3"
  },
  "language_info": {
   "codemirror_mode": {
    "name": "ipython",
    "version": 3
   },
   "file_extension": ".py",
   "mimetype": "text/x-python",
   "name": "python",
   "nbconvert_exporter": "python",
   "pygments_lexer": "ipython3",
   "version": "3.13.2"
  }
 },
 "nbformat": 4,
 "nbformat_minor": 2
}
